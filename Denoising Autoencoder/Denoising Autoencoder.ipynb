{
  "nbformat": 4,
  "nbformat_minor": 0,
  "metadata": {
    "colab": {
      "name": "Assignment2.ipynb",
      "version": "0.3.2",
      "provenance": [],
      "collapsed_sections": []
    },
    "kernelspec": {
      "name": "python3",
      "display_name": "Python 3"
    },
    "accelerator": "GPU"
  },
  "cells": [
    {
      "metadata": {
        "id": "8JPETSUfzBYw",
        "colab_type": "code",
        "colab": {}
      },
      "cell_type": "code",
      "source": [
        "#for setting up on colab\n",
        "\n",
        "from google.colab import drive\n",
        "drive.mount('/content/drive/')"
      ],
      "execution_count": 0,
      "outputs": []
    },
    {
      "metadata": {
        "id": "rx3CbGI6TvTk",
        "colab_type": "code",
        "colab": {}
      },
      "cell_type": "code",
      "source": [
        "from os import path\n",
        "from wheel.pep425tags import get_abbr_impl, get_impl_ver, get_abi_tag\n",
        "platform = '{}{}-{}'.format(get_abbr_impl(), get_impl_ver(), get_abi_tag())\n",
        "accelerator = 'cu80' if path.exists('/opt/bin/nvidia-smi') else 'cpu'\n",
        "!pip install -q http://download.pytorch.org/whl/{accelerator}/torch-0.3.0.post4-{platform}-linux_x86_64.whl torchvision\n",
        "import torch\n"
      ],
      "execution_count": 0,
      "outputs": []
    },
    {
      "metadata": {
        "id": "U5sCSaW2UTN3",
        "colab_type": "code",
        "colab": {}
      },
      "cell_type": "code",
      "source": [
        "#importing libraries\n",
        "import torch.nn as nn\n",
        "from torch.utils.data import DataLoader \n",
        "import torchvision.transforms as transform #For transformations\n",
        "import torchvision.datasets as dataset   #dataset is a sub-class of torch.utils.data.Dataset and can be passed torch.utils.data.Dataloader to which can load multiple samples\n",
        "from torch.autograd import Variable\n",
        "import torch.nn.functional as F\n",
        "import copy\n",
        "\n",
        "import matplotlib.pyplot as plt\n",
        "import numpy as np\n",
        "from PIL import Image\n"
      ],
      "execution_count": 0,
      "outputs": []
    },
    {
      "metadata": {
        "id": "S0ysqWHhUk9b",
        "colab_type": "code",
        "colab": {}
      },
      "cell_type": "code",
      "source": [
        "#initializing batch size and epoch\n",
        "batch_size=128\n",
        "epochs = 10\n",
        "\n",
        "#loading data from MNIST data set in the form of training and testing set\n",
        "transforms=transform.Compose([transform.ToTensor()])\n",
        "train_set = dataset.MNIST(root='./data',train=True, \n",
        "                           download=True,transform=transforms)\n",
        "train_loader = DataLoader(dataset=train_set,batch_size=batch_size,shuffle=True,num_workers=4)\n",
        "test_set = dataset.MNIST(root='./data', train=False,\n",
        "                        download=True, transform=transforms)\n",
        "test_loader = DataLoader(dataset=test_set, batch_size=batch_size,shuffle=True,num_workers=4)\n"
      ],
      "execution_count": 0,
      "outputs": []
    },
    {
      "metadata": {
        "id": "CWaDdnm5Q3BC",
        "colab_type": "code",
        "colab": {}
      },
      "cell_type": "code",
      "source": [
        "#function to add noise\n",
        "def add_noise(img):\n",
        "    noise = torch.randn(img.size())*0.4\n",
        "    noisy_img = img + noise\n",
        "    return noisy_img"
      ],
      "execution_count": 0,
      "outputs": []
    },
    {
      "metadata": {
        "id": "i9R2H3HNUo09",
        "colab_type": "code",
        "colab": {}
      },
      "cell_type": "code",
      "source": [
        "# Encoder \n",
        "# torch.nn.Conv2d(in_channels, out_channels, kernel_size,\n",
        "#                 stride=1, padding=0, dilation=1,\n",
        "#                 groups=1, bias=True)\n",
        "# Decoder \n",
        "# torch.nn.ConvTranspose2d(in_channels, out_channels, kernel_size,\n",
        "#                          stride=1, padding=0, output_padding=0,\n",
        "#                          groups=1, bias=True)\n",
        "#MaxPool2d(kernel_size, stride=None, padding=0, dilation=1, return_indices=False, ceil_mode=False)\n",
        "\n",
        "#one encoding layer consists of one convolution with activation relu and one max pooling operation\n",
        "#one convolution transpose with activation relu constitutes one decoding layer\n",
        "#We have used two encoding and decoding layers\n",
        "class autoencoder(nn.Module):\n",
        "    def  __init__(self):\n",
        "        super(autoencoder, self).__init__()\n",
        "        self.conv1 = nn.Conv2d(1, 64, kernel_size=3,padding=1)     #initial dimension 28x28\n",
        "        self.conv2 = nn.Conv2d(64, 128, kernel_size=3,padding=1)   #dimension remains 28x28 because of padding\n",
        "        self.conv2_drop = nn.Dropout2d()                           #using drop out to prevent overfitting\n",
        "        self.fc1 = nn.ConvTranspose2d(128, 64, 3,2,padding=1,output_padding=1) #using convolution transpose to reverse the convolution\n",
        "        self.fc2 = nn.ConvTranspose2d(64, 1, 3,2,padding=1,output_padding=1)\n",
        "    def forward(self,x):\n",
        "        x = F.relu(F.max_pool2d(self.conv1(x), 2)) #maxpools with stride of 2 dimension reduces to 14x14\n",
        "        x = F.relu(F.max_pool2d(self.conv2_drop(self.conv2(x)), 2)) #maxpools with stride of 2 dimension reduces to 7x7\n",
        "        x = F.relu(self.fc1(x)) #tranpose convolution with stride of 2 and kernel 3 upsamples the image to 14x14\n",
        "        x = F.dropout(x, training=self.training)\n",
        "        x = self.fc2(x)  #second tranpose convolution with stride of 2 and kernel 3 upsamples the image to 28x28\n",
        "        return x"
      ],
      "execution_count": 0,
      "outputs": []
    },
    {
      "metadata": {
        "id": "uz8M1xR1UqDV",
        "colab_type": "code",
        "colab": {}
      },
      "cell_type": "code",
      "source": [
        "net = autoencoder()\n",
        "use_cuda = True\n",
        "if use_cuda and torch.cuda.is_available():\n",
        "    net.cuda()\n"
      ],
      "execution_count": 0,
      "outputs": []
    },
    {
      "metadata": {
        "id": "DyAMhWiAkcZ_",
        "colab_type": "code",
        "colab": {}
      },
      "cell_type": "code",
      "source": [
        "#optimizer and loss\n",
        "import torch.optim as optim\n",
        "\n",
        "criterion = nn.MSELoss()\n",
        "optimizer = optim.SGD(net.parameters(), lr=0.5, momentum=0.9)\n"
      ],
      "execution_count": 0,
      "outputs": []
    },
    {
      "metadata": {
        "id": "7wK2X01hkwNL",
        "colab_type": "code",
        "colab": {}
      },
      "cell_type": "code",
      "source": [
        "for epoch in range(epochs):\n",
        "    running_loss = 0\n",
        "    for data in (train_loader):\n",
        "        image,_=data\n",
        "        noise_img=add_noise(image).cuda()\n",
        "        inputs = Variable(noise_img).cuda()\n",
        "        optimizer.zero_grad()\n",
        "        outputs = net(inputs)\n",
        "        loss = criterion(outputs,Variable(image).cuda())\n",
        "        loss.backward()\n",
        "        optimizer.step()\n",
        "        running_loss += loss.data[0]\n",
        "    print('At Iteration : %d   ;  Mean-Squared Error : %f'%(epoch + 1,running_loss/\n",
        "                                                                (train_set.train_data.size(0)/batch_size)))\n",
        "print('Finished Training')"
      ],
      "execution_count": 0,
      "outputs": []
    },
    {
      "metadata": {
        "id": "YQginSu9kxPu",
        "colab_type": "code",
        "colab": {}
      },
      "cell_type": "code",
      "source": [
        "#getting an iterable to test our network\n",
        "dataiter=iter(test_loader)\n",
        "test_image,_=dataiter.next()\n",
        "noise_img=add_noise(test_image)\n",
        "input_image = Variable(noise_img).cuda()\n",
        "test_image= test_image.view(-1,28,28)\n",
        "output_image = net(input_image)\n",
        "output_image=output_image.view(-1,28,28)\n",
        "input_image=input_image.view(-1,28,28)"
      ],
      "execution_count": 0,
      "outputs": []
    },
    {
      "metadata": {
        "id": "BGQRDMFBk2ak",
        "colab_type": "code",
        "colab": {}
      },
      "cell_type": "code",
      "source": [
        "input_image.shape"
      ],
      "execution_count": 0,
      "outputs": []
    },
    {
      "metadata": {
        "id": "dU6yq8PFk5xy",
        "colab_type": "code",
        "colab": {}
      },
      "cell_type": "code",
      "source": [
        "#the shuffle option in test_loader shuffles the images we run the loop for 10 iterations to pick first ten images which are random beccause of shuffling\n",
        "for i in range(10):\n",
        "  fig = plt.figure(figsize=(8,8))\n",
        "  plot=fig.add_subplot(1,3,1)\n",
        "  img = np.array(test_image[i])\n",
        "  plot.set_title('Original Image')\n",
        "  imgplot = plt.imshow(img,cmap='gray')\n",
        "\n",
        "  plot=fig.add_subplot(1,3,2)\n",
        "  img = output_image.data\n",
        "  plot.set_title('Reconstructed Image')\n",
        "  imgplot = plt.imshow(img[i].cpu().numpy(),cmap='gray')\n",
        "\n",
        "\n",
        "  plot=fig.add_subplot(1,3,3)\n",
        "  img = input_image.data\n",
        "  plot.set_title('Noisy Image')\n",
        "  imgplot = plt.imshow(img[i].cpu().numpy(),cmap='gray')\n",
        "  plt.show()"
      ],
      "execution_count": 0,
      "outputs": []
    },
    {
      "metadata": {
        "id": "ZY3BrkqoCvIm",
        "colab_type": "text"
      },
      "cell_type": "markdown",
      "source": [
        "**References:**\n",
        "\n",
        "For transpose convolution:\n",
        "\n",
        "https://towardsdatascience.com/up-sampling-with-transposed-convolution-9ae4f2df52d0 \n",
        "\n",
        "For basic convolution neural network:\n",
        "\n",
        "http://adventuresinmachinelearning.com/convolutional-neural-networks-tutorial-in-pytorch/\n",
        "\n",
        "For noise in auto encoders:\n",
        "\n",
        "https://gist.github.com/bigsnarfdude/dde651f6e06f266b48bc3750ac730f80"
      ]
    }
  ]
}